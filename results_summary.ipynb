{
  "nbformat": 4,
  "nbformat_minor": 0,
  "metadata": {
    "colab": {
      "provenance": []
    },
    "kernelspec": {
      "name": "python3",
      "display_name": "Python 3"
    },
    "language_info": {
      "name": "python"
    }
  },
  "cells": [
    {
      "cell_type": "code",
      "execution_count": null,
      "metadata": {
        "id": "1I5rr7E1YEDi"
      },
      "outputs": [],
      "source": []
    },
    {
      "cell_type": "markdown",
      "source": [
        "Overview of the analysis:  \n",
        "The purpose of the exercise is to develop a tool that can help select the applicants for funding with the best chance of success in their ventures. \n",
        "\n",
        "\n",
        "Results: \n",
        "\n",
        "Data Preprocessing\n",
        "\n",
        "What variable(s) are the target(s) for your model?\n",
        "\n",
        "*   The target variable for my model was IS_SUCCESSFUL.\n",
        "\n",
        "What variable(s) are the features for your model?\n",
        "\n",
        "*   The feature variables are APPLICATION_TYPE and CLASSIFICATION. \n",
        "\n",
        "What variable(s) should be removed from the input data because they are neither targets nor features?\n",
        "\n",
        "*   Variables that should be removed include USE_CASE and ORGANIZATION.\n",
        "\n",
        "Compiling, Training, and Evaluating the Model\n",
        "\n",
        "How many neurons, layers, and activation functions did you select for your neural network model, and why?\n",
        "*   I selected 5 neurons, 3 Layers, and 2 activation functions. This is what was used in a previous lesson that seemed to work, so I duplicated that format.\n",
        "\n",
        "Were you able to achieve the target model performance?\n",
        "*  No. My highest accuracy return was 0.73, below the target of 0.75.\n",
        "\n",
        "What steps did you take in your attempts to increase model performance?\n",
        "Summary: Summarize the overall results of the deep learning model. Include a recommendation for how a different model could solve this classification problem, and then explain your recommendation.\n",
        "* A regression model could have been used to evaluate the model and reduce errors in progressive iterations. "
      ],
      "metadata": {
        "id": "Bg9i7UlAYFWd"
      }
    },
    {
      "cell_type": "markdown",
      "source": [],
      "metadata": {
        "id": "fEl8SPaCor3d"
      }
    }
  ]
}